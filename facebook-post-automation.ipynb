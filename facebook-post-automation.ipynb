{
 "cells": [
  {
   "cell_type": "code",
   "execution_count": 8,
   "id": "a624e33e",
   "metadata": {},
   "outputs": [
    {
     "name": "stdout",
     "output_type": "stream",
     "text": [
      "Collecting facebook-sdk\n",
      "  Using cached facebook_sdk-3.1.0-py2.py3-none-any.whl (7.5 kB)\n",
      "Requirement already satisfied: requests in c:\\users\\nikita\\anaconda3\\lib\\site-packages (from facebook-sdk) (2.26.0)\n",
      "Requirement already satisfied: certifi>=2017.4.17 in c:\\users\\nikita\\anaconda3\\lib\\site-packages (from requests->facebook-sdk) (2021.10.8)\n",
      "Requirement already satisfied: charset-normalizer~=2.0.0 in c:\\users\\nikita\\anaconda3\\lib\\site-packages (from requests->facebook-sdk) (2.0.4)\n",
      "Requirement already satisfied: idna<4,>=2.5 in c:\\users\\nikita\\anaconda3\\lib\\site-packages (from requests->facebook-sdk) (3.2)\n",
      "Requirement already satisfied: urllib3<1.27,>=1.21.1 in c:\\users\\nikita\\anaconda3\\lib\\site-packages (from requests->facebook-sdk) (1.26.7)\n",
      "Installing collected packages: facebook-sdk\n",
      "Successfully installed facebook-sdk-3.1.0\n"
     ]
    }
   ],
   "source": [
    "!pip install facebook-sdk"
   ]
  },
  {
   "cell_type": "code",
   "execution_count": 9,
   "id": "7e29291a",
   "metadata": {},
   "outputs": [],
   "source": [
    "import facebook as fb"
   ]
  },
  {
   "cell_type": "code",
   "execution_count": 16,
   "id": "73a4e022",
   "metadata": {},
   "outputs": [],
   "source": [
    "access_token= \"EAAS6i46xEaEBAPhuuq09OQp9AAL2WzzO13w8Nbs9bzDIZBBmVeBNQ0ZCUWZAsnLlqB3jobsjpnSIrkHFIgZCKwDlEkUo34ABzyULxdxr4WP0UQ8JfZCUdFWVWUt0zn7Ixy8vdeCEOKv0VTn7pvNmZCYS033wTMj6otb2kQWDbMzGsh7dGMeDhslFwEsYHTzFcZD\""
   ]
  },
  {
   "cell_type": "code",
   "execution_count": 17,
   "id": "3212dce0",
   "metadata": {},
   "outputs": [],
   "source": [
    "demofb = fb.GraphAPI(access_token)"
   ]
  },
  {
   "cell_type": "code",
   "execution_count": 18,
   "id": "4a6b30b5",
   "metadata": {},
   "outputs": [
    {
     "data": {
      "text/plain": [
       "{'id': '110919981590253_110949028254015'}"
      ]
     },
     "execution_count": 18,
     "metadata": {},
     "output_type": "execute_result"
    }
   ],
   "source": [
    "demofb.put_object(\"me\",\"feed\",message = \"Hello!! This is an automated post!\")"
   ]
  },
  {
   "cell_type": "code",
   "execution_count": 19,
   "id": "e6d51414",
   "metadata": {},
   "outputs": [
    {
     "data": {
      "text/plain": [
       "{'created_time': '2022-04-14T11:33:33+0000',\n",
       " 'message': 'Hello!! This is an automated post!',\n",
       " 'id': '110919981590253_110949028254015'}"
      ]
     },
     "execution_count": 19,
     "metadata": {},
     "output_type": "execute_result"
    }
   ],
   "source": [
    "demofb.get_object(\"110919981590253_110949028254015\")"
   ]
  },
  {
   "cell_type": "code",
   "execution_count": 21,
   "id": "d8cb9635",
   "metadata": {},
   "outputs": [
    {
     "data": {
      "text/plain": [
       "{'id': '110953304920254', 'post_id': '110919981590253_110953304920254'}"
      ]
     },
     "execution_count": 21,
     "metadata": {},
     "output_type": "execute_result"
    }
   ],
   "source": [
    "demofb.put_photo(open(\"ghibli_flowers.jpg\",\"rb\"), message = \"Automated image post\")"
   ]
  },
  {
   "cell_type": "code",
   "execution_count": 22,
   "id": "3176f7ff",
   "metadata": {},
   "outputs": [
    {
     "data": {
      "text/plain": [
       "{'id': '110953304920254_110954534920131'}"
      ]
     },
     "execution_count": 22,
     "metadata": {},
     "output_type": "execute_result"
    }
   ],
   "source": [
    "demofb.put_object(\"110919981590253_110953304920254\",\"comments\",message=\"pretty!! (automated comment)\")"
   ]
  },
  {
   "cell_type": "code",
   "execution_count": null,
   "id": "6ddb6308",
   "metadata": {},
   "outputs": [],
   "source": []
  }
 ],
 "metadata": {
  "kernelspec": {
   "display_name": "Python 3 (ipykernel)",
   "language": "python",
   "name": "python3"
  },
  "language_info": {
   "codemirror_mode": {
    "name": "ipython",
    "version": 3
   },
   "file_extension": ".py",
   "mimetype": "text/x-python",
   "name": "python",
   "nbconvert_exporter": "python",
   "pygments_lexer": "ipython3",
   "version": "3.10.4"
  }
 },
 "nbformat": 4,
 "nbformat_minor": 5
}
